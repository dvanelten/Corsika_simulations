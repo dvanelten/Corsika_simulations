{
 "cells": [
  {
   "cell_type": "code",
   "execution_count": 12,
   "metadata": {
    "collapsed": true
   },
   "outputs": [],
   "source": [
    "import pandas as pd"
   ]
  },
  {
   "cell_type": "code",
   "execution_count": 13,
   "metadata": {
    "collapsed": true
   },
   "outputs": [],
   "source": [
    "response = pd.read_csv(\"/Users/dennisvanelten/instrument-response/famous-parameterization-simulation.csv\", index_col = 0)"
   ]
  },
  {
   "cell_type": "code",
   "execution_count": 14,
   "metadata": {
    "collapsed": true
   },
   "outputs": [],
   "source": [
    "from eventio import IACTFile "
   ]
  },
  {
   "cell_type": "code",
   "execution_count": 15,
   "metadata": {
    "collapsed": true
   },
   "outputs": [],
   "source": [
    "f = IACTFile(\"/Users/dennisvanelten/Desktop/iceact/1_gamma_1.dat\")"
   ]
  },
  {
   "cell_type": "code",
   "execution_count": 16,
   "metadata": {
    "collapsed": false
   },
   "outputs": [
    {
     "data": {
      "text/plain": [
       "(4234814,)"
      ]
     },
     "execution_count": 16,
     "metadata": {},
     "output_type": "execute_result"
    }
   ],
   "source": [
    "event = f[0]\n",
    "event.header.total_energy #gibt die total_energy des Schauers in der .dat-Datei an (hier ca. 7 TeV)\n",
    "event.photon_bunches[0].shape #gibt das Format an (hier etwa 4,2 Mio produzierte Photonen)"
   ]
  },
  {
   "cell_type": "code",
   "execution_count": 17,
   "metadata": {
    "collapsed": true
   },
   "outputs": [],
   "source": [
    "photons = event.photon_bunches[0]"
   ]
  },
  {
   "cell_type": "code",
   "execution_count": 18,
   "metadata": {
    "collapsed": true
   },
   "outputs": [],
   "source": [
    "import numpy as np"
   ]
  },
  {
   "cell_type": "code",
   "execution_count": 19,
   "metadata": {
    "collapsed": false
   },
   "outputs": [],
   "source": [
    "r = np.sqrt(photons['x']**2 + photons['y']**2)\n",
    "mask = r < 25.35\n",
    "selected_photons = photons[mask]\n",
    "#len(selected_photons)"
   ]
  },
  {
   "cell_type": "code",
   "execution_count": 20,
   "metadata": {
    "collapsed": true
   },
   "outputs": [],
   "source": [
    "import random"
   ]
  },
  {
   "cell_type": "code",
   "execution_count": 21,
   "metadata": {
    "collapsed": false
   },
   "outputs": [],
   "source": [
    "np.random.shuffle(selected_photons)\n",
    "#selected_photons #gibt Photonen an, die innerhalb des Kreises (Detektor) liegen (hier: 38), aber random reihenfolge"
   ]
  },
  {
   "cell_type": "code",
   "execution_count": 22,
   "metadata": {
    "collapsed": true
   },
   "outputs": [],
   "source": [
    "from scipy.spatial import KDTree"
   ]
  },
  {
   "cell_type": "code",
   "execution_count": 23,
   "metadata": {
    "collapsed": false
   },
   "outputs": [],
   "source": [
    "tree = KDTree(response[['u', 'v']].values)"
   ]
  },
  {
   "cell_type": "code",
   "execution_count": 24,
   "metadata": {
    "collapsed": false
   },
   "outputs": [],
   "source": [
    "distances, indices = tree.query(np.column_stack([selected_photons['cx'], selected_photons['cy']]))"
   ]
  },
  {
   "cell_type": "code",
   "execution_count": 25,
   "metadata": {
    "collapsed": false
   },
   "outputs": [
    {
     "data": {
      "text/plain": [
       "(array([ 0.00196618,  0.00262121,  0.00134578,  0.00029361,  0.00210569,\n",
       "         0.0018021 ,  0.00086056,  0.00245138,  0.00186337,  0.0020065 ,\n",
       "         0.00194275,  0.002217  ,  0.0013365 ,  0.00230328,  0.00227258,\n",
       "         0.00116499,  0.00166822,  0.0014336 ,  0.00248224,  0.00232896,\n",
       "         0.00226921,  0.00044485,  0.00237993,  0.00067515,  0.0024937 ,\n",
       "         0.0008076 ,  0.00122817,  0.00200096,  0.00152909,  0.00091577,\n",
       "         0.0019179 ,  0.00196179,  0.0018415 ,  0.00161201,  0.00113698,\n",
       "         0.00112329,  0.00108397,  0.00222609]),\n",
       " array([ 21,  36,  76, 344,  35,  20,  20, 299,  20,  77,   9,   2,  54,\n",
       "         20,   9,  11,  10,  20, 898,  21, 539,  54,   2,   2, 350,  20,\n",
       "         77,  20,   3,  10,   9,   9,   9,  10,  20,  77, 135,   3]))"
      ]
     },
     "execution_count": 25,
     "metadata": {},
     "output_type": "execute_result"
    }
   ],
   "source": [
    "array = distances, indices\n",
    "array"
   ]
  },
  {
   "cell_type": "code",
   "execution_count": 26,
   "metadata": {
    "collapsed": false
   },
   "outputs": [
    {
     "data": {
      "text/html": [
       "<div>\n",
       "<table border=\"1\" class=\"dataframe\">\n",
       "  <thead>\n",
       "    <tr style=\"text-align: right;\">\n",
       "      <th></th>\n",
       "      <th>phi</th>\n",
       "      <th>t_sipm</th>\n",
       "      <th>t_sipm_0</th>\n",
       "      <th>t_sipm_1</th>\n",
       "      <th>t_sipm_10</th>\n",
       "      <th>t_sipm_11</th>\n",
       "      <th>t_sipm_12</th>\n",
       "      <th>t_sipm_13</th>\n",
       "      <th>t_sipm_14</th>\n",
       "      <th>t_sipm_15</th>\n",
       "      <th>...</th>\n",
       "      <th>t_sipm_52_error</th>\n",
       "      <th>t_sipm_53_error</th>\n",
       "      <th>t_sipm_54_error</th>\n",
       "      <th>t_sipm_55_error</th>\n",
       "      <th>t_sipm_56_error</th>\n",
       "      <th>t_sipm_57_error</th>\n",
       "      <th>t_sipm_58_error</th>\n",
       "      <th>t_sipm_59_error</th>\n",
       "      <th>t_sipm_error</th>\n",
       "      <th>t_sipm_60_error</th>\n",
       "    </tr>\n",
       "  </thead>\n",
       "  <tbody>\n",
       "    <tr>\n",
       "      <th>0</th>\n",
       "      <td>0.785398</td>\n",
       "      <td>0.0787</td>\n",
       "      <td>0.0633</td>\n",
       "      <td>0.0042</td>\n",
       "      <td>0.0000</td>\n",
       "      <td>0.0</td>\n",
       "      <td>0.0</td>\n",
       "      <td>0.0</td>\n",
       "      <td>0.0000</td>\n",
       "      <td>0.0000</td>\n",
       "      <td>...</td>\n",
       "      <td>0.0</td>\n",
       "      <td>0.0</td>\n",
       "      <td>0.0</td>\n",
       "      <td>0.0</td>\n",
       "      <td>0.0</td>\n",
       "      <td>0.0</td>\n",
       "      <td>0.0</td>\n",
       "      <td>0.0</td>\n",
       "      <td>0.0</td>\n",
       "      <td>0.000141</td>\n",
       "    </tr>\n",
       "    <tr>\n",
       "      <th>1</th>\n",
       "      <td>2.356194</td>\n",
       "      <td>0.0775</td>\n",
       "      <td>0.0639</td>\n",
       "      <td>0.0000</td>\n",
       "      <td>0.0000</td>\n",
       "      <td>0.0</td>\n",
       "      <td>0.0</td>\n",
       "      <td>0.0</td>\n",
       "      <td>0.0001</td>\n",
       "      <td>0.0001</td>\n",
       "      <td>...</td>\n",
       "      <td>0.0</td>\n",
       "      <td>0.0</td>\n",
       "      <td>0.0</td>\n",
       "      <td>0.0</td>\n",
       "      <td>0.0</td>\n",
       "      <td>0.0</td>\n",
       "      <td>0.0</td>\n",
       "      <td>0.0</td>\n",
       "      <td>0.0</td>\n",
       "      <td>0.000000</td>\n",
       "    </tr>\n",
       "    <tr>\n",
       "      <th>2</th>\n",
       "      <td>3.926991</td>\n",
       "      <td>0.0773</td>\n",
       "      <td>0.0634</td>\n",
       "      <td>0.0000</td>\n",
       "      <td>0.0001</td>\n",
       "      <td>0.0</td>\n",
       "      <td>0.0</td>\n",
       "      <td>0.0</td>\n",
       "      <td>0.0000</td>\n",
       "      <td>0.0000</td>\n",
       "      <td>...</td>\n",
       "      <td>0.0</td>\n",
       "      <td>0.0</td>\n",
       "      <td>0.0</td>\n",
       "      <td>0.0</td>\n",
       "      <td>0.0</td>\n",
       "      <td>0.0</td>\n",
       "      <td>0.0</td>\n",
       "      <td>0.0</td>\n",
       "      <td>0.0</td>\n",
       "      <td>0.000100</td>\n",
       "    </tr>\n",
       "    <tr>\n",
       "      <th>3</th>\n",
       "      <td>5.497787</td>\n",
       "      <td>0.0746</td>\n",
       "      <td>0.0608</td>\n",
       "      <td>0.0050</td>\n",
       "      <td>0.0001</td>\n",
       "      <td>0.0</td>\n",
       "      <td>0.0</td>\n",
       "      <td>0.0</td>\n",
       "      <td>0.0000</td>\n",
       "      <td>0.0000</td>\n",
       "      <td>...</td>\n",
       "      <td>0.0</td>\n",
       "      <td>0.0</td>\n",
       "      <td>0.0</td>\n",
       "      <td>0.0</td>\n",
       "      <td>0.0</td>\n",
       "      <td>0.0</td>\n",
       "      <td>0.0</td>\n",
       "      <td>0.0</td>\n",
       "      <td>0.0</td>\n",
       "      <td>0.000000</td>\n",
       "    </tr>\n",
       "    <tr>\n",
       "      <th>4</th>\n",
       "      <td>0.392699</td>\n",
       "      <td>0.0814</td>\n",
       "      <td>0.0550</td>\n",
       "      <td>0.0144</td>\n",
       "      <td>0.0000</td>\n",
       "      <td>0.0</td>\n",
       "      <td>0.0</td>\n",
       "      <td>0.0</td>\n",
       "      <td>0.0000</td>\n",
       "      <td>0.0000</td>\n",
       "      <td>...</td>\n",
       "      <td>0.0</td>\n",
       "      <td>0.0</td>\n",
       "      <td>0.0</td>\n",
       "      <td>0.0</td>\n",
       "      <td>0.0</td>\n",
       "      <td>0.0</td>\n",
       "      <td>0.0</td>\n",
       "      <td>0.0</td>\n",
       "      <td>0.0</td>\n",
       "      <td>0.000000</td>\n",
       "    </tr>\n",
       "  </tbody>\n",
       "</table>\n",
       "<p>5 rows × 129 columns</p>\n",
       "</div>"
      ],
      "text/plain": [
       "        phi  t_sipm  t_sipm_0  t_sipm_1  t_sipm_10  t_sipm_11  t_sipm_12  \\\n",
       "0  0.785398  0.0787    0.0633    0.0042     0.0000        0.0        0.0   \n",
       "1  2.356194  0.0775    0.0639    0.0000     0.0000        0.0        0.0   \n",
       "2  3.926991  0.0773    0.0634    0.0000     0.0001        0.0        0.0   \n",
       "3  5.497787  0.0746    0.0608    0.0050     0.0001        0.0        0.0   \n",
       "4  0.392699  0.0814    0.0550    0.0144     0.0000        0.0        0.0   \n",
       "\n",
       "   t_sipm_13  t_sipm_14  t_sipm_15       ...         t_sipm_52_error  \\\n",
       "0        0.0     0.0000     0.0000       ...                     0.0   \n",
       "1        0.0     0.0001     0.0001       ...                     0.0   \n",
       "2        0.0     0.0000     0.0000       ...                     0.0   \n",
       "3        0.0     0.0000     0.0000       ...                     0.0   \n",
       "4        0.0     0.0000     0.0000       ...                     0.0   \n",
       "\n",
       "   t_sipm_53_error  t_sipm_54_error  t_sipm_55_error  t_sipm_56_error  \\\n",
       "0              0.0              0.0              0.0              0.0   \n",
       "1              0.0              0.0              0.0              0.0   \n",
       "2              0.0              0.0              0.0              0.0   \n",
       "3              0.0              0.0              0.0              0.0   \n",
       "4              0.0              0.0              0.0              0.0   \n",
       "\n",
       "   t_sipm_57_error  t_sipm_58_error  t_sipm_59_error  t_sipm_error  \\\n",
       "0              0.0              0.0              0.0           0.0   \n",
       "1              0.0              0.0              0.0           0.0   \n",
       "2              0.0              0.0              0.0           0.0   \n",
       "3              0.0              0.0              0.0           0.0   \n",
       "4              0.0              0.0              0.0           0.0   \n",
       "\n",
       "   t_sipm_60_error  \n",
       "0         0.000141  \n",
       "1         0.000000  \n",
       "2         0.000100  \n",
       "3         0.000000  \n",
       "4         0.000000  \n",
       "\n",
       "[5 rows x 129 columns]"
      ]
     },
     "execution_count": 26,
     "metadata": {},
     "output_type": "execute_result"
    }
   ],
   "source": [
    "response.head(5)"
   ]
  },
  {
   "cell_type": "code",
   "execution_count": 27,
   "metadata": {
    "collapsed": false
   },
   "outputs": [
    {
     "data": {
      "text/html": [
       "<div>\n",
       "<table border=\"1\" class=\"dataframe\">\n",
       "  <thead>\n",
       "    <tr style=\"text-align: right;\">\n",
       "      <th></th>\n",
       "      <th>phi</th>\n",
       "      <th>t_sipm</th>\n",
       "      <th>t_sipm_0</th>\n",
       "      <th>t_sipm_1</th>\n",
       "      <th>t_sipm_10</th>\n",
       "      <th>t_sipm_11</th>\n",
       "      <th>t_sipm_12</th>\n",
       "      <th>t_sipm_13</th>\n",
       "      <th>t_sipm_14</th>\n",
       "      <th>t_sipm_15</th>\n",
       "      <th>...</th>\n",
       "      <th>t_sipm_52_error</th>\n",
       "      <th>t_sipm_53_error</th>\n",
       "      <th>t_sipm_54_error</th>\n",
       "      <th>t_sipm_55_error</th>\n",
       "      <th>t_sipm_56_error</th>\n",
       "      <th>t_sipm_57_error</th>\n",
       "      <th>t_sipm_58_error</th>\n",
       "      <th>t_sipm_59_error</th>\n",
       "      <th>t_sipm_error</th>\n",
       "      <th>t_sipm_60_error</th>\n",
       "    </tr>\n",
       "  </thead>\n",
       "  <tbody>\n",
       "    <tr>\n",
       "      <th>2</th>\n",
       "      <td>3.926991</td>\n",
       "      <td>0.0773</td>\n",
       "      <td>0.0634</td>\n",
       "      <td>0.0</td>\n",
       "      <td>0.0001</td>\n",
       "      <td>0.0</td>\n",
       "      <td>0.0</td>\n",
       "      <td>0.0</td>\n",
       "      <td>0.0</td>\n",
       "      <td>0.0</td>\n",
       "      <td>...</td>\n",
       "      <td>0.0</td>\n",
       "      <td>0.0</td>\n",
       "      <td>0.0</td>\n",
       "      <td>0.0</td>\n",
       "      <td>0.0</td>\n",
       "      <td>0.0</td>\n",
       "      <td>0.0</td>\n",
       "      <td>0.0</td>\n",
       "      <td>0.0</td>\n",
       "      <td>0.0001</td>\n",
       "    </tr>\n",
       "  </tbody>\n",
       "</table>\n",
       "<p>1 rows × 129 columns</p>\n",
       "</div>"
      ],
      "text/plain": [
       "        phi  t_sipm  t_sipm_0  t_sipm_1  t_sipm_10  t_sipm_11  t_sipm_12  \\\n",
       "2  3.926991  0.0773    0.0634       0.0     0.0001        0.0        0.0   \n",
       "\n",
       "   t_sipm_13  t_sipm_14  t_sipm_15       ...         t_sipm_52_error  \\\n",
       "2        0.0        0.0        0.0       ...                     0.0   \n",
       "\n",
       "   t_sipm_53_error  t_sipm_54_error  t_sipm_55_error  t_sipm_56_error  \\\n",
       "2              0.0              0.0              0.0              0.0   \n",
       "\n",
       "   t_sipm_57_error  t_sipm_58_error  t_sipm_59_error  t_sipm_error  \\\n",
       "2              0.0              0.0              0.0           0.0   \n",
       "\n",
       "   t_sipm_60_error  \n",
       "2           0.0001  \n",
       "\n",
       "[1 rows x 129 columns]"
      ]
     },
     "execution_count": 27,
     "metadata": {},
     "output_type": "execute_result"
    }
   ],
   "source": [
    "response.iloc[[2]] #die komplette zweite Reihe ausgeben"
   ]
  },
  {
   "cell_type": "code",
   "execution_count": 28,
   "metadata": {
    "collapsed": false
   },
   "outputs": [
    {
     "data": {
      "text/html": [
       "<div>\n",
       "<table border=\"1\" class=\"dataframe\">\n",
       "  <thead>\n",
       "    <tr style=\"text-align: right;\">\n",
       "      <th></th>\n",
       "      <th>t_sipm_0</th>\n",
       "      <th>t_sipm_1</th>\n",
       "      <th>t_sipm_10</th>\n",
       "      <th>t_sipm_11</th>\n",
       "      <th>t_sipm_12</th>\n",
       "      <th>t_sipm_13</th>\n",
       "      <th>t_sipm_14</th>\n",
       "      <th>t_sipm_15</th>\n",
       "      <th>t_sipm_16</th>\n",
       "      <th>t_sipm_17</th>\n",
       "      <th>...</th>\n",
       "      <th>t_sipm_55</th>\n",
       "      <th>t_sipm_56</th>\n",
       "      <th>t_sipm_57</th>\n",
       "      <th>t_sipm_58</th>\n",
       "      <th>t_sipm_59</th>\n",
       "      <th>t_sipm_6</th>\n",
       "      <th>t_sipm_60</th>\n",
       "      <th>t_sipm_7</th>\n",
       "      <th>t_sipm_8</th>\n",
       "      <th>t_sipm_9</th>\n",
       "    </tr>\n",
       "  </thead>\n",
       "  <tbody>\n",
       "    <tr>\n",
       "      <th>0</th>\n",
       "      <td>0.0633</td>\n",
       "      <td>0.0042</td>\n",
       "      <td>0.0</td>\n",
       "      <td>0.0</td>\n",
       "      <td>0.0</td>\n",
       "      <td>0.0</td>\n",
       "      <td>0.0</td>\n",
       "      <td>0.0</td>\n",
       "      <td>0.0</td>\n",
       "      <td>0.0</td>\n",
       "      <td>...</td>\n",
       "      <td>0.0001</td>\n",
       "      <td>0.0</td>\n",
       "      <td>0.0</td>\n",
       "      <td>0.0</td>\n",
       "      <td>0.0</td>\n",
       "      <td>0.0</td>\n",
       "      <td>0.0002</td>\n",
       "      <td>0.0</td>\n",
       "      <td>0.0</td>\n",
       "      <td>0.0001</td>\n",
       "    </tr>\n",
       "  </tbody>\n",
       "</table>\n",
       "<p>1 rows × 61 columns</p>\n",
       "</div>"
      ],
      "text/plain": [
       "   t_sipm_0  t_sipm_1  t_sipm_10  t_sipm_11  t_sipm_12  t_sipm_13  t_sipm_14  \\\n",
       "0    0.0633    0.0042        0.0        0.0        0.0        0.0        0.0   \n",
       "\n",
       "   t_sipm_15  t_sipm_16  t_sipm_17    ...     t_sipm_55  t_sipm_56  t_sipm_57  \\\n",
       "0        0.0        0.0        0.0    ...        0.0001        0.0        0.0   \n",
       "\n",
       "   t_sipm_58  t_sipm_59  t_sipm_6  t_sipm_60  t_sipm_7  t_sipm_8  t_sipm_9  \n",
       "0        0.0        0.0       0.0     0.0002       0.0       0.0    0.0001  \n",
       "\n",
       "[1 rows x 61 columns]"
      ]
     },
     "execution_count": 28,
     "metadata": {},
     "output_type": "execute_result"
    }
   ],
   "source": [
    "response_first_col = response.iloc[:1,2:63]     #bestimmte Elemente der zweiten Reihe ausgeben \n",
    "response_first_col "
   ]
  },
  {
   "cell_type": "code",
   "execution_count": 29,
   "metadata": {
    "collapsed": false
   },
   "outputs": [
    {
     "data": {
      "text/html": [
       "<div>\n",
       "<table border=\"1\" class=\"dataframe\">\n",
       "  <thead>\n",
       "    <tr style=\"text-align: right;\">\n",
       "      <th></th>\n",
       "      <th>t_sipm_2</th>\n",
       "    </tr>\n",
       "  </thead>\n",
       "  <tbody>\n",
       "    <tr>\n",
       "      <th>0</th>\n",
       "      <td>0.0</td>\n",
       "    </tr>\n",
       "  </tbody>\n",
       "</table>\n",
       "</div>"
      ],
      "text/plain": [
       "   t_sipm_2\n",
       "0       0.0"
      ]
     },
     "execution_count": 29,
     "metadata": {},
     "output_type": "execute_result"
    }
   ],
   "source": [
    "random_sipm = response_first_col.sample(n=1,axis=1)  #aus der Reihe Element samplen, wird nicht wiederholt, n=1:61 (Anzahl SiPM's)\n",
    "random_sipm"
   ]
  },
  {
   "cell_type": "code",
   "execution_count": 30,
   "metadata": {
    "collapsed": false
   },
   "outputs": [
    {
     "data": {
      "text/plain": [
       "0.0"
      ]
     },
     "execution_count": 30,
     "metadata": {},
     "output_type": "execute_result"
    }
   ],
   "source": [
    "sipm_value = random_sipm.iloc[0][0] #value of cell\n",
    "sipm_value"
   ]
  },
  {
   "cell_type": "code",
   "execution_count": 31,
   "metadata": {
    "collapsed": false
   },
   "outputs": [
    {
     "data": {
      "text/plain": [
       "['t_sipm_2']"
      ]
     },
     "execution_count": 31,
     "metadata": {},
     "output_type": "execute_result"
    }
   ],
   "source": [
    "col_name = list(random_sipm.columns.values)\n",
    "col_name"
   ]
  },
  {
   "cell_type": "code",
   "execution_count": 32,
   "metadata": {
    "collapsed": false
   },
   "outputs": [
    {
     "data": {
      "text/plain": [
       "t_sipm_2    0.0\n",
       "Name: 0, dtype: float64"
      ]
     },
     "execution_count": 32,
     "metadata": {},
     "output_type": "execute_result"
    }
   ],
   "source": [
    "random_sipm.iloc[0][: 't_sipm_{}']   #gibt Informationen der Zelle an: row, col, value"
   ]
  },
  {
   "cell_type": "code",
   "execution_count": null,
   "metadata": {
    "collapsed": true
   },
   "outputs": [],
   "source": []
  }
 ],
 "metadata": {
  "anaconda-cloud": {},
  "kernelspec": {
   "display_name": "Python [Root]",
   "language": "python",
   "name": "Python [Root]"
  },
  "language_info": {
   "codemirror_mode": {
    "name": "ipython",
    "version": 3
   },
   "file_extension": ".py",
   "mimetype": "text/x-python",
   "name": "python",
   "nbconvert_exporter": "python",
   "pygments_lexer": "ipython3",
   "version": "3.5.2"
  }
 },
 "nbformat": 4,
 "nbformat_minor": 0
}
